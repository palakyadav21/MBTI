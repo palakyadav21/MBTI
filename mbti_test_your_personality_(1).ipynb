{
  "cells": [
    {
      "cell_type": "markdown",
      "metadata": {
        "id": "view-in-github",
        "colab_type": "text"
      },
      "source": [
        "<a href=\"https://colab.research.google.com/github/palakyadav21/MBTI/blob/main/mbti_test_your_personality_(1).ipynb\" target=\"_parent\"><img src=\"https://colab.research.google.com/assets/colab-badge.svg\" alt=\"Open In Colab\"/></a>"
      ]
    },
    {
      "cell_type": "code",
      "execution_count": null,
      "metadata": {
        "execution": {
          "iopub.execute_input": "2022-07-17T10:09:53.789615Z",
          "iopub.status.busy": "2022-07-17T10:09:53.789123Z",
          "iopub.status.idle": "2022-07-17T10:09:59.621150Z",
          "shell.execute_reply": "2022-07-17T10:09:59.620112Z",
          "shell.execute_reply.started": "2022-07-17T10:09:53.789514Z"
        },
        "trusted": true,
        "id": "01-zPRVtLKKN",
        "outputId": "1c0e2eab-b156-4450-de25-0af1c049f85f"
      },
      "outputs": [
        {
          "data": {
            "text/html": [
              "<div>\n",
              "<style scoped>\n",
              "    .dataframe tbody tr th:only-of-type {\n",
              "        vertical-align: middle;\n",
              "    }\n",
              "\n",
              "    .dataframe tbody tr th {\n",
              "        vertical-align: top;\n",
              "    }\n",
              "\n",
              "    .dataframe thead th {\n",
              "        text-align: right;\n",
              "    }\n",
              "</style>\n",
              "<table border=\"1\" class=\"dataframe\">\n",
              "  <thead>\n",
              "    <tr style=\"text-align: right;\">\n",
              "      <th></th>\n",
              "      <th>type</th>\n",
              "      <th>posts</th>\n",
              "    </tr>\n",
              "  </thead>\n",
              "  <tbody>\n",
              "    <tr>\n",
              "      <th>0</th>\n",
              "      <td>INFJ</td>\n",
              "      <td>'http://www.youtube.com/watch?v=qsXHcwe3krw|||...</td>\n",
              "    </tr>\n",
              "    <tr>\n",
              "      <th>1</th>\n",
              "      <td>ENTP</td>\n",
              "      <td>'I'm finding the lack of me in these posts ver...</td>\n",
              "    </tr>\n",
              "    <tr>\n",
              "      <th>2</th>\n",
              "      <td>INTP</td>\n",
              "      <td>'Good one  _____   https://www.youtube.com/wat...</td>\n",
              "    </tr>\n",
              "    <tr>\n",
              "      <th>3</th>\n",
              "      <td>INTJ</td>\n",
              "      <td>'Dear INTP,   I enjoyed our conversation the o...</td>\n",
              "    </tr>\n",
              "    <tr>\n",
              "      <th>4</th>\n",
              "      <td>ENTJ</td>\n",
              "      <td>'You're fired.|||That's another silly misconce...</td>\n",
              "    </tr>\n",
              "  </tbody>\n",
              "</table>\n",
              "</div>"
            ],
            "text/plain": [
              "   type                                              posts\n",
              "0  INFJ  'http://www.youtube.com/watch?v=qsXHcwe3krw|||...\n",
              "1  ENTP  'I'm finding the lack of me in these posts ver...\n",
              "2  INTP  'Good one  _____   https://www.youtube.com/wat...\n",
              "3  INTJ  'Dear INTP,   I enjoyed our conversation the o...\n",
              "4  ENTJ  'You're fired.|||That's another silly misconce..."
            ]
          },
          "execution_count": 12,
          "metadata": {},
          "output_type": "execute_result"
        }
      ],
      "source": [
        "import pandas as pd\n",
        "from sklearn.metrics import classification_report\n",
        "from sklearn.linear_model import LogisticRegression\n",
        "from sklearn.preprocessing import LabelEncoder\n",
        "from sklearn.feature_extraction.text import TfidfVectorizer\n",
        "from tqdm import tqdm\n",
        "import nltk\n",
        "from nltk.stem import WordNetLemmatizer\n",
        "from nltk.corpus import stopwords\n",
        "import re\n",
        "from sklearn.model_selection import train_test_split\n",
        "from sklearn.ensemble import RandomForestClassifier,GradientBoostingClassifier\n",
        "import matplotlib.pyplot as plt\n",
        "import seaborn as sns\n",
        "from sklearn.metrics import accuracy_score\n",
        "import warnings\n",
        "warnings.filterwarnings('ignore')\n",
        "data=pd.read_csv('mbti_1.csv')\n",
        "data.head()"
      ]
    },
    {
      "cell_type": "code",
      "execution_count": null,
      "metadata": {
        "execution": {
          "iopub.execute_input": "2022-07-17T10:09:59.622762Z",
          "iopub.status.busy": "2022-07-17T10:09:59.622462Z",
          "iopub.status.idle": "2022-07-17T10:09:59.716482Z",
          "shell.execute_reply": "2022-07-17T10:09:59.715187Z",
          "shell.execute_reply.started": "2022-07-17T10:09:59.622736Z"
        },
        "trusted": true,
        "id": "5ems7EP5LKKS",
        "outputId": "72377c2b-7cea-4881-ebbd-d555a8a4990c"
      },
      "outputs": [
        {
          "data": {
            "text/html": [
              "<div>\n",
              "<style scoped>\n",
              "    .dataframe tbody tr th:only-of-type {\n",
              "        vertical-align: middle;\n",
              "    }\n",
              "\n",
              "    .dataframe tbody tr th {\n",
              "        vertical-align: top;\n",
              "    }\n",
              "\n",
              "    .dataframe thead th {\n",
              "        text-align: right;\n",
              "    }\n",
              "</style>\n",
              "<table border=\"1\" class=\"dataframe\">\n",
              "  <thead>\n",
              "    <tr style=\"text-align: right;\">\n",
              "      <th></th>\n",
              "      <th>type</th>\n",
              "      <th>posts</th>\n",
              "    </tr>\n",
              "  </thead>\n",
              "  <tbody>\n",
              "    <tr>\n",
              "      <th>count</th>\n",
              "      <td>8675</td>\n",
              "      <td>8675</td>\n",
              "    </tr>\n",
              "    <tr>\n",
              "      <th>unique</th>\n",
              "      <td>16</td>\n",
              "      <td>8675</td>\n",
              "    </tr>\n",
              "    <tr>\n",
              "      <th>top</th>\n",
              "      <td>INFP</td>\n",
              "      <td>'http://www.youtube.com/watch?v=qsXHcwe3krw|||...</td>\n",
              "    </tr>\n",
              "    <tr>\n",
              "      <th>freq</th>\n",
              "      <td>1832</td>\n",
              "      <td>1</td>\n",
              "    </tr>\n",
              "  </tbody>\n",
              "</table>\n",
              "</div>"
            ],
            "text/plain": [
              "        type                                              posts\n",
              "count   8675                                               8675\n",
              "unique    16                                               8675\n",
              "top     INFP  'http://www.youtube.com/watch?v=qsXHcwe3krw|||...\n",
              "freq    1832                                                  1"
            ]
          },
          "execution_count": 13,
          "metadata": {},
          "output_type": "execute_result"
        }
      ],
      "source": [
        "data.describe(include='O')"
      ]
    },
    {
      "cell_type": "code",
      "execution_count": null,
      "metadata": {
        "execution": {
          "iopub.execute_input": "2022-07-17T10:09:59.718665Z",
          "iopub.status.busy": "2022-07-17T10:09:59.718322Z",
          "iopub.status.idle": "2022-07-17T10:09:59.729783Z",
          "shell.execute_reply": "2022-07-17T10:09:59.728606Z",
          "shell.execute_reply.started": "2022-07-17T10:09:59.718632Z"
        },
        "trusted": true,
        "id": "v_y5VAqsLKKT",
        "outputId": "15f9dc1a-3478-4c5a-9d5b-36e75ce04b0d"
      },
      "outputs": [
        {
          "data": {
            "text/plain": [
              "INFP    1832\n",
              "INFJ    1470\n",
              "INTP    1304\n",
              "INTJ    1091\n",
              "ENTP     685\n",
              "ENFP     675\n",
              "ISTP     337\n",
              "ISFP     271\n",
              "ENTJ     231\n",
              "ISTJ     205\n",
              "ENFJ     190\n",
              "ISFJ     166\n",
              "ESTP      89\n",
              "ESFP      48\n",
              "ESFJ      42\n",
              "ESTJ      39\n",
              "Name: type, dtype: int64"
            ]
          },
          "execution_count": 14,
          "metadata": {},
          "output_type": "execute_result"
        }
      ],
      "source": [
        "data['type'].value_counts()"
      ]
    },
    {
      "cell_type": "code",
      "execution_count": null,
      "metadata": {
        "execution": {
          "iopub.execute_input": "2022-07-17T10:09:59.731786Z",
          "iopub.status.busy": "2022-07-17T10:09:59.731463Z",
          "iopub.status.idle": "2022-07-17T10:09:59.755372Z",
          "shell.execute_reply": "2022-07-17T10:09:59.754016Z",
          "shell.execute_reply.started": "2022-07-17T10:09:59.731753Z"
        },
        "trusted": true,
        "id": "pYNF1XgdLKKU",
        "outputId": "e9be261b-9c9c-43c8-bbcc-d58a2d67ef10"
      },
      "outputs": [
        {
          "name": "stdout",
          "output_type": "stream",
          "text": [
            "<class 'pandas.core.frame.DataFrame'>\n",
            "RangeIndex: 8675 entries, 0 to 8674\n",
            "Data columns (total 2 columns):\n",
            " #   Column  Non-Null Count  Dtype \n",
            "---  ------  --------------  ----- \n",
            " 0   type    8675 non-null   object\n",
            " 1   posts   8675 non-null   object\n",
            "dtypes: object(2)\n",
            "memory usage: 135.7+ KB\n"
          ]
        }
      ],
      "source": [
        "data.info()"
      ]
    },
    {
      "cell_type": "code",
      "execution_count": null,
      "metadata": {
        "execution": {
          "iopub.execute_input": "2022-07-17T10:09:59.757408Z",
          "iopub.status.busy": "2022-07-17T10:09:59.756817Z",
          "iopub.status.idle": "2022-07-17T10:09:59.763888Z",
          "shell.execute_reply": "2022-07-17T10:09:59.762930Z",
          "shell.execute_reply.started": "2022-07-17T10:09:59.757360Z"
        },
        "trusted": true,
        "id": "Phmf_Hq8LKKX",
        "outputId": "e88fd59d-e51f-4af0-f72f-188fe94a8deb"
      },
      "outputs": [
        {
          "data": {
            "text/plain": [
              "\"'http://www.youtube.com/watch?v=qsXHcwe3krw|||http://41.media.tumblr.com/tumblr_lfouy03PMA1qa1rooo1_500.jpg|||enfp and intj moments  https://www.youtube.com/watch?v=iz7lE1g4XM4  sportscenter not top ten plays  https://www.youtube.com/watch?v=uCdfze1etec  pranks|||What has been the most life-changing experience in your life?|||http://www.youtube.com/watch?v=vXZeYwwRDw8   http://www.youtube.com/watch?v=u8ejam5DP3E  On repeat for most of today.|||May the PerC Experience immerse you.|||The last thing my INFJ friend posted on his facebook before committing suicide the next day. Rest in peace~   http://vimeo.com/22842206|||Hello ENFJ7. Sorry to hear of your distress. It's only natural for a relationship to not be perfection all the time in every moment of existence. Try to figure the hard times as times of growth, as...|||84389  84390  http://wallpaperpassion.com/upload/23700/friendship-boy-and-girl-wallpaper.jpg  http://assets.dornob.com/wp-content/uploads/2010/04/round-home-design.jpg ...|||Welcome and stuff.|||http://playeressence.com/wp-content/uploads/2013/08/RED-red-the-pokemon-master-32560474-450-338.jpg  Game. Set. Match.|||Prozac, wellbrutin, at least thirty minutes of moving your legs (and I don't mean moving them while sitting in your same desk chair), weed in moderation (maybe try edibles as a healthier alternative...|||Basically come up with three items you've determined that each type (or whichever types you want to do) would more than likely use, given each types' cognitive functions and whatnot, when left by...|||All things in moderation.  Sims is indeed a video game, and a good one at that. Note: a good one at that is somewhat subjective in that I am not completely promoting the death of any given Sim...|||Dear ENFP:  What were your favorite video games growing up and what are your now, current favorite video games? :cool:|||https://www.youtube.com/watch?v=QyPqT8umzmY|||It appears to be too late. :sad:|||There's someone out there for everyone.|||Wait... I thought confidence was a good thing.|||I just cherish the time of solitude b/c i revel within my inner world more whereas most other time i'd be workin... just enjoy the me time while you can. Don't worry, people will always be around to...|||Yo entp ladies... if you're into a complimentary personality,well, hey.|||... when your main social outlet is xbox live conversations and even then you verbally fatigue quickly.|||http://www.youtube.com/watch?v=gDhy7rdfm14  I really dig the part from 1:46 to 2:50|||http://www.youtube.com/watch?v=msqXffgh7b8|||Banned because this thread requires it of me.|||Get high in backyard, roast and eat marshmellows in backyard while conversing over something intellectual, followed by massages and kisses.|||http://www.youtube.com/watch?v=Mw7eoU3BMbE|||http://www.youtube.com/watch?v=4V2uYORhQOk|||http://www.youtube.com/watch?v=SlVmgFQQ0TI|||Banned for too many b's in that sentence. How could you! Think of the B!|||Banned for watching movies in the corner with the dunces.|||Banned because Health class clearly taught you nothing about peer pressure.|||Banned for a whole host of reasons!|||http://www.youtube.com/watch?v=IRcrv41hgz4|||1) Two baby deer on left and right munching on a beetle in the middle.  2) Using their own blood, two cavemen diary today's latest happenings on their designated cave diary wall.  3) I see it as...|||a pokemon world  an infj society  everyone becomes an optimist|||49142|||http://www.youtube.com/watch?v=ZRCEq_JFeFM|||http://discovermagazine.com/2012/jul-aug/20-things-you-didnt-know-about-deserts/desert.jpg|||http://oyster.ignimgs.com/mediawiki/apis.ign.com/pokemon-silver-version/d/dd/Ditto.gif|||http://www.serebii.net/potw-dp/Scizor.jpg|||Not all artists are artists because they draw. It's the idea that counts in forming something of your own... like a signature.|||Welcome to the robot ranks, person who downed my self-esteem cuz I'm not an avid signature artist like herself. :proud:|||Banned for taking all the room under my bed. Ya gotta learn to share with the roaches.|||http://www.youtube.com/watch?v=w8IgImn57aQ|||Banned for being too much of a thundering, grumbling kind of storm... yep.|||Ahh... old high school music I haven't heard in ages.   http://www.youtube.com/watch?v=dcCRUPCdB1w|||I failed a public speaking class a few years ago and I've sort of learned what I could do better were I to be in that position again. A big part of my failure was just overloading myself with too...|||I like this person's mentality. He's a confirmed INTJ by the way. http://www.youtube.com/watch?v=hGKLI-GEc6M|||Move to the Denver area and start a new life for myself.'\""
            ]
          },
          "execution_count": 16,
          "metadata": {},
          "output_type": "execute_result"
        }
      ],
      "source": [
        "data.posts[0]"
      ]
    },
    {
      "cell_type": "markdown",
      "metadata": {
        "id": "F-QgtzC5LKKX"
      },
      "source": [
        "### From above it is quite evident that there are many links in the text data. That needed to be removed."
      ]
    },
    {
      "cell_type": "code",
      "execution_count": null,
      "metadata": {
        "execution": {
          "iopub.execute_input": "2022-07-17T10:09:59.765498Z",
          "iopub.status.busy": "2022-07-17T10:09:59.765195Z",
          "iopub.status.idle": "2022-07-17T10:09:59.793379Z",
          "shell.execute_reply": "2022-07-17T10:09:59.792168Z",
          "shell.execute_reply.started": "2022-07-17T10:09:59.765469Z"
        },
        "trusted": true,
        "id": "l98LjPd4LKKZ"
      },
      "outputs": [],
      "source": [
        "# Stratify split to ensure equal distribution of data\n",
        "\n",
        "train_data,test_data=train_test_split(data,test_size=0.2,random_state=42,stratify=data.type)"
      ]
    },
    {
      "cell_type": "markdown",
      "metadata": {
        "id": "gI_Cb3U4LKKa"
      },
      "source": [
        "### Function to clean the text data."
      ]
    },
    {
      "cell_type": "code",
      "execution_count": null,
      "metadata": {
        "execution": {
          "iopub.execute_input": "2022-07-17T10:09:59.795015Z",
          "iopub.status.busy": "2022-07-17T10:09:59.794577Z",
          "iopub.status.idle": "2022-07-17T10:09:59.800701Z",
          "shell.execute_reply": "2022-07-17T10:09:59.799938Z",
          "shell.execute_reply.started": "2022-07-17T10:09:59.794984Z"
        },
        "trusted": true,
        "id": "BMS6B4d5LKKb"
      },
      "outputs": [],
      "source": [
        "def clear_text(data):\n",
        "    data_length=[]\n",
        "    lemmatizer=WordNetLemmatizer()\n",
        "    cleaned_text=[]\n",
        "    for sentence in tqdm(data.posts):\n",
        "        sentence=sentence.lower()\n",
        "\n",
        "#         removing links from text data\n",
        "        sentence=re.sub('https?://[^\\s<>\"]+|www\\.[^\\s<>\"]+',' ',sentence)\n",
        "\n",
        "#         removing other symbols\n",
        "        sentence=re.sub('[^0-9a-z]',' ',sentence)\n",
        "\n",
        "\n",
        "        data_length.append(len(sentence.split()))\n",
        "        cleaned_text.append(sentence)\n",
        "    return cleaned_text,data_length"
      ]
    },
    {
      "cell_type": "code",
      "execution_count": null,
      "metadata": {
        "execution": {
          "iopub.execute_input": "2022-07-17T10:09:59.803162Z",
          "iopub.status.busy": "2022-07-17T10:09:59.802755Z",
          "iopub.status.idle": "2022-07-17T10:10:07.522046Z",
          "shell.execute_reply": "2022-07-17T10:10:07.520903Z",
          "shell.execute_reply.started": "2022-07-17T10:09:59.803133Z"
        },
        "trusted": true,
        "id": "lMnxZDHFLKKb",
        "outputId": "8430099a-705a-4f40-e6ae-f492418bc379"
      },
      "outputs": [
        {
          "name": "stderr",
          "output_type": "stream",
          "text": [
            "100%|██████████| 6940/6940 [00:05<00:00, 1277.65it/s]\n"
          ]
        }
      ],
      "source": [
        "train_data.posts,train_length=clear_text(train_data)"
      ]
    },
    {
      "cell_type": "code",
      "execution_count": null,
      "metadata": {
        "execution": {
          "iopub.execute_input": "2022-07-17T10:10:07.524238Z",
          "iopub.status.busy": "2022-07-17T10:10:07.523937Z",
          "iopub.status.idle": "2022-07-17T10:10:09.459746Z",
          "shell.execute_reply": "2022-07-17T10:10:09.458756Z",
          "shell.execute_reply.started": "2022-07-17T10:10:07.524209Z"
        },
        "trusted": true,
        "id": "9HZFJFN1LKKc",
        "outputId": "58ad2130-ecdc-41a5-ff8c-bfad5e3ecbd1"
      },
      "outputs": [
        {
          "name": "stderr",
          "output_type": "stream",
          "text": [
            "100%|██████████| 1735/1735 [00:01<00:00, 1532.83it/s]\n"
          ]
        }
      ],
      "source": [
        "test_data.posts,test_length=clear_text(test_data)"
      ]
    },
    {
      "cell_type": "code",
      "execution_count": null,
      "metadata": {
        "execution": {
          "iopub.execute_input": "2022-07-17T10:10:09.461375Z",
          "iopub.status.busy": "2022-07-17T10:10:09.461047Z",
          "iopub.status.idle": "2022-07-17T10:10:09.933306Z",
          "shell.execute_reply": "2022-07-17T10:10:09.932264Z",
          "shell.execute_reply.started": "2022-07-17T10:10:09.461322Z"
        },
        "trusted": true,
        "id": "nj0wIce-LKKc",
        "outputId": "e5c090ef-a9d0-4252-a750-bb6432a4be08"
      },
      "outputs": [
        {
          "data": {
            "image/png": "[encoded data removed]",
            "text/plain": [
              "<Figure size 1080x720 with 1 Axes>"
            ]
          },
          "metadata": {
            "needs_background": "light"
          },
          "output_type": "display_data"
        }
      ],
      "source": [
        "plt.figure(figsize=(15,10))\n",
        "sns.distplot(train_length,label='train data word length')\n",
        "sns.distplot(test_length,label='test data word length')\n",
        "plt.title('Number of words in text',fontdict={'size':20,'style':'italic'})\n",
        "plt.show()"
      ]
    },
    {
      "cell_type": "code",
      "execution_count": null,
      "metadata": {
        "id": "ahiPl4qBLKKc",
        "outputId": "85cc1460-4615-4f8d-9f40-20127122c061"
      },
      "outputs": [
        {
          "data": {
            "image/png": "[encoded data removed]",
            "text/plain": [
              "<Figure size 1080x360 with 1 Axes>"
            ]
          },
          "metadata": {
            "needs_background": "light"
          },
          "output_type": "display_data"
        }
      ],
      "source": [
        "plt.figure(figsize=(15,5))\n",
        "plt.plot(data['type'].value_counts())\n",
        "plt.title('Distribution of Personality Types')\n",
        "plt.show()"
      ]
    },
    {
      "cell_type": "code",
      "execution_count": null,
      "metadata": {
        "_kg_hide-input": true,
        "execution": {
          "iopub.execute_input": "2022-07-17T10:10:11.107311Z",
          "iopub.status.busy": "2022-07-17T10:10:11.107015Z",
          "iopub.status.idle": "2022-07-17T10:10:11.112279Z",
          "shell.execute_reply": "2022-07-17T10:10:11.111614Z",
          "shell.execute_reply.started": "2022-07-17T10:10:11.107283Z"
        },
        "trusted": true,
        "id": "gi-y9phELKKd"
      },
      "outputs": [],
      "source": [
        "class Lemmatizer(object):\n",
        "    def __init__(self):\n",
        "        self.lemmatizer = WordNetLemmatizer()\n",
        "    def __call__(self, sentence):\n",
        "        return [self.lemmatizer.lemmatize(word) for word in sentence.split() if len(word)>2]"
      ]
    },
    {
      "cell_type": "code",
      "execution_count": null,
      "metadata": {
        "_kg_hide-output": true,
        "execution": {
          "iopub.execute_input": "2022-07-17T10:10:11.113705Z",
          "iopub.status.busy": "2022-07-17T10:10:11.113386Z",
          "iopub.status.idle": "2022-07-17T10:10:52.470224Z",
          "shell.execute_reply": "2022-07-17T10:10:52.469152Z",
          "shell.execute_reply.started": "2022-07-17T10:10:11.113676Z"
        },
        "trusted": true,
        "id": "OrbeuTC0LKKd",
        "outputId": "965dc4ba-472e-45b0-bea5-bb85edc8c865"
      },
      "outputs": [
        {
          "data": {
            "text/plain": [
              "TfidfVectorizer(max_features=5000, stop_words='english',\n",
              "                tokenizer=<__main__.Lemmatizer object at 0x00000139B8104100>)"
            ]
          },
          "execution_count": 24,
          "metadata": {},
          "output_type": "execute_result"
        }
      ],
      "source": [
        "vectorizer=TfidfVectorizer( max_features=5000,stop_words='english',tokenizer=Lemmatizer())\n",
        "vectorizer.fit(train_data.posts)"
      ]
    },
    {
      "cell_type": "code",
      "execution_count": null,
      "metadata": {
        "execution": {
          "iopub.execute_input": "2022-07-17T10:10:53.349629Z",
          "iopub.status.busy": "2022-07-17T10:10:53.349228Z",
          "iopub.status.idle": "2022-07-17T10:11:42.694015Z",
          "shell.execute_reply": "2022-07-17T10:11:42.692752Z",
          "shell.execute_reply.started": "2022-07-17T10:10:53.349595Z"
        },
        "trusted": true,
        "id": "nZojtZ0VLKKd"
      },
      "outputs": [],
      "source": [
        "train_post=vectorizer.transform(train_data.posts).toarray()\n",
        "test_post=vectorizer.transform(test_data.posts).toarray()"
      ]
    },
    {
      "cell_type": "code",
      "execution_count": null,
      "metadata": {
        "execution": {
          "iopub.execute_input": "2022-07-17T10:11:42.695703Z",
          "iopub.status.busy": "2022-07-17T10:11:42.695389Z",
          "iopub.status.idle": "2022-07-17T10:11:42.701319Z",
          "shell.execute_reply": "2022-07-17T10:11:42.700443Z",
          "shell.execute_reply.started": "2022-07-17T10:11:42.695672Z"
        },
        "trusted": true,
        "id": "_jl7iyE2LKKe",
        "outputId": "9243d52d-3633-4315-fe49-bab747aed22c"
      },
      "outputs": [
        {
          "data": {
            "text/plain": [
              "(6940, 5000)"
            ]
          },
          "execution_count": 26,
          "metadata": {},
          "output_type": "execute_result"
        }
      ],
      "source": [
        "train_post.shape"
      ]
    },
    {
      "cell_type": "code",
      "execution_count": null,
      "metadata": {
        "execution": {
          "iopub.execute_input": "2022-07-17T10:11:42.703007Z",
          "iopub.status.busy": "2022-07-17T10:11:42.702670Z",
          "iopub.status.idle": "2022-07-17T10:11:42.716381Z",
          "shell.execute_reply": "2022-07-17T10:11:42.715527Z",
          "shell.execute_reply.started": "2022-07-17T10:11:42.702978Z"
        },
        "trusted": true,
        "id": "4_nvARfcLKKe"
      },
      "outputs": [],
      "source": [
        "target_encoder=LabelEncoder()\n",
        "train_target=target_encoder.fit_transform(train_data.type)\n",
        "test_target=target_encoder.fit_transform(test_data.type)"
      ]
    },
    {
      "cell_type": "code",
      "execution_count": null,
      "metadata": {
        "execution": {
          "iopub.execute_input": "2022-07-17T10:11:42.718589Z",
          "iopub.status.busy": "2022-07-17T10:11:42.717876Z",
          "iopub.status.idle": "2022-07-17T10:11:42.727908Z",
          "shell.execute_reply": "2022-07-17T10:11:42.727160Z",
          "shell.execute_reply.started": "2022-07-17T10:11:42.718545Z"
        },
        "trusted": true,
        "id": "5_EWlB7GLKKe"
      },
      "outputs": [],
      "source": [
        "models_accuracy={}"
      ]
    },
    {
      "cell_type": "code",
      "execution_count": null,
      "metadata": {
        "execution": {
          "iopub.execute_input": "2022-07-17T10:11:42.729684Z",
          "iopub.status.busy": "2022-07-17T10:11:42.729218Z",
          "iopub.status.idle": "2022-07-17T10:12:28.817158Z",
          "shell.execute_reply": "2022-07-17T10:12:28.816402Z",
          "shell.execute_reply.started": "2022-07-17T10:11:42.729649Z"
        },
        "trusted": true,
        "id": "ns3Lb07NLKKe",
        "outputId": "8ec4f089-573f-47d6-e3ae-d6d18ab0aad5"
      },
      "outputs": [
        {
          "data": {
            "text/plain": [
              "LogisticRegression(C=0.5, max_iter=3000, n_jobs=-1)"
            ]
          },
          "execution_count": 29,
          "metadata": {},
          "output_type": "execute_result"
        }
      ],
      "source": [
        "model_log=LogisticRegression(max_iter=3000,C=0.5,n_jobs=-1)\n",
        "model_log.fit(train_post,train_target)"
      ]
    },
    {
      "cell_type": "code",
      "execution_count": null,
      "metadata": {
        "execution": {
          "iopub.execute_input": "2022-07-17T10:12:28.819178Z",
          "iopub.status.busy": "2022-07-17T10:12:28.818774Z",
          "iopub.status.idle": "2022-07-17T10:12:28.959025Z",
          "shell.execute_reply": "2022-07-17T10:12:28.957860Z",
          "shell.execute_reply.started": "2022-07-17T10:12:28.819146Z"
        },
        "trusted": true,
        "id": "T8DDw0x3LKKe",
        "outputId": "3681d020-10eb-49f0-cde0-db52d1eed758"
      },
      "outputs": [
        {
          "name": "stdout",
          "output_type": "stream",
          "text": [
            "train classification report \n",
            "                precision    recall  f1-score   support\n",
            "\n",
            "        ENFJ       0.86      0.16      0.27       152\n",
            "        ENFP       0.81      0.65      0.72       540\n",
            "        ENTJ       0.93      0.29      0.44       185\n",
            "        ENTP       0.82      0.66      0.73       548\n",
            "        ESFJ       0.00      0.00      0.00        34\n",
            "        ESFP       0.00      0.00      0.00        38\n",
            "        ESTJ       0.00      0.00      0.00        31\n",
            "        ESTP       1.00      0.04      0.08        71\n",
            "        INFJ       0.73      0.83      0.78      1176\n",
            "        INFP       0.66      0.93      0.77      1465\n",
            "        INTJ       0.73      0.80      0.77       873\n",
            "        INTP       0.69      0.87      0.77      1043\n",
            "        ISFJ       0.89      0.24      0.38       133\n",
            "        ISFP       0.86      0.26      0.40       217\n",
            "        ISTJ       0.86      0.27      0.41       164\n",
            "        ISTP       0.86      0.52      0.65       270\n",
            "\n",
            "    accuracy                           0.72      6940\n",
            "   macro avg       0.67      0.41      0.45      6940\n",
            "weighted avg       0.74      0.72      0.69      6940\n",
            "\n"
          ]
        }
      ],
      "source": [
        "print('train classification report \\n ',classification_report(train_target,model_log.predict(train_post),target_names=target_encoder.inverse_transform([i for i in range(16)])))"
      ]
    },
    {
      "cell_type": "code",
      "execution_count": null,
      "metadata": {
        "execution": {
          "iopub.execute_input": "2022-07-17T10:12:28.961582Z",
          "iopub.status.busy": "2022-07-17T10:12:28.960875Z",
          "iopub.status.idle": "2022-07-17T10:12:29.013232Z",
          "shell.execute_reply": "2022-07-17T10:12:29.012011Z",
          "shell.execute_reply.started": "2022-07-17T10:12:28.961530Z"
        },
        "trusted": true,
        "id": "hxD8MGPgLKKf",
        "outputId": "753c015c-41db-4d71-8efc-43d585eb3b06"
      },
      "outputs": [
        {
          "name": "stdout",
          "output_type": "stream",
          "text": [
            "test classification report \n",
            "               precision    recall  f1-score   support\n",
            "\n",
            "        ENFJ       1.00      0.08      0.15        38\n",
            "        ENFP       0.76      0.53      0.62       135\n",
            "        ENTJ       0.75      0.13      0.22        46\n",
            "        ENTP       0.66      0.51      0.58       137\n",
            "        ESFJ       0.00      0.00      0.00         8\n",
            "        ESFP       0.00      0.00      0.00        10\n",
            "        ESTJ       0.00      0.00      0.00         8\n",
            "        ESTP       0.00      0.00      0.00        18\n",
            "        INFJ       0.64      0.71      0.67       294\n",
            "        INFP       0.57      0.88      0.69       367\n",
            "        INTJ       0.61      0.65      0.63       218\n",
            "        INTP       0.66      0.83      0.74       261\n",
            "        ISFJ       0.67      0.12      0.21        33\n",
            "        ISFP       0.85      0.20      0.33        54\n",
            "        ISTJ       0.60      0.07      0.13        41\n",
            "        ISTP       0.68      0.45      0.54        67\n",
            "\n",
            "    accuracy                           0.63      1735\n",
            "   macro avg       0.53      0.32      0.34      1735\n",
            "weighted avg       0.64      0.63      0.59      1735\n",
            "\n"
          ]
        }
      ],
      "source": [
        "print('test classification report \\n',classification_report(test_target,model_log.predict(test_post),target_names=target_encoder.inverse_transform([i for i in range(16)])))"
      ]
    },
    {
      "cell_type": "code",
      "execution_count": null,
      "metadata": {
        "execution": {
          "iopub.execute_input": "2022-07-17T10:12:29.022986Z",
          "iopub.status.busy": "2022-07-17T10:12:29.019685Z",
          "iopub.status.idle": "2022-07-17T10:12:29.058985Z",
          "shell.execute_reply": "2022-07-17T10:12:29.057522Z",
          "shell.execute_reply.started": "2022-07-17T10:12:29.022914Z"
        },
        "trusted": true,
        "id": "W2o5A8w-LKKf"
      },
      "outputs": [],
      "source": [
        "models_accuracy['logistic regression']=accuracy_score(test_target,model_log.predict(test_post))"
      ]
    },
    {
      "cell_type": "code",
      "execution_count": null,
      "metadata": {
        "trusted": true,
        "id": "yX5ekuXmLKKf",
        "outputId": "69d264b8-ac26-4d24-ffec-0a9044a4bc79"
      },
      "outputs": [
        {
          "data": {
            "text/plain": [
              "RandomForestClassifier(max_depth=10)"
            ]
          },
          "execution_count": 33,
          "metadata": {},
          "output_type": "execute_result"
        }
      ],
      "source": [
        "model_forest=RandomForestClassifier(max_depth=10)\n",
        "model_forest.fit(train_post,train_target)"
      ]
    },
    {
      "cell_type": "code",
      "execution_count": null,
      "metadata": {
        "trusted": true,
        "id": "VHlfRpbOLKKf",
        "outputId": "8e60ca31-7b52-4e64-c42f-b2882bfced65"
      },
      "outputs": [
        {
          "name": "stdout",
          "output_type": "stream",
          "text": [
            "train classification report \n",
            "                precision    recall  f1-score   support\n",
            "\n",
            "        ENFJ       1.00      0.03      0.05       152\n",
            "        ENFP       1.00      0.40      0.57       540\n",
            "        ENTJ       1.00      0.02      0.04       185\n",
            "        ENTP       0.96      0.65      0.78       548\n",
            "        ESFJ       0.00      0.00      0.00        34\n",
            "        ESFP       0.00      0.00      0.00        38\n",
            "        ESTJ       0.00      0.00      0.00        31\n",
            "        ESTP       1.00      0.03      0.05        71\n",
            "        INFJ       0.82      0.83      0.82      1176\n",
            "        INFP       0.44      0.99      0.61      1465\n",
            "        INTJ       0.92      0.73      0.81       873\n",
            "        INTP       0.82      0.85      0.84      1043\n",
            "        ISFJ       1.00      0.02      0.04       133\n",
            "        ISFP       1.00      0.06      0.12       217\n",
            "        ISTJ       1.00      0.04      0.07       164\n",
            "        ISTP       1.00      0.16      0.27       270\n",
            "\n",
            "    accuracy                           0.66      6940\n",
            "   macro avg       0.75      0.30      0.32      6940\n",
            "weighted avg       0.80      0.66      0.62      6940\n",
            "\n",
            "test classification report \n",
            "                precision    recall  f1-score   support\n",
            "\n",
            "        ENFJ       0.00      0.00      0.00        38\n",
            "        ENFP       0.77      0.13      0.22       135\n",
            "        ENTJ       0.00      0.00      0.00        46\n",
            "        ENTP       0.76      0.31      0.44       137\n",
            "        ESFJ       0.00      0.00      0.00         8\n",
            "        ESFP       0.00      0.00      0.00        10\n",
            "        ESTJ       0.00      0.00      0.00         8\n",
            "        ESTP       0.00      0.00      0.00        18\n",
            "        INFJ       0.61      0.54      0.58       294\n",
            "        INFP       0.33      0.93      0.49       367\n",
            "        INTJ       0.70      0.37      0.49       218\n",
            "        INTP       0.62      0.61      0.61       261\n",
            "        ISFJ       0.00      0.00      0.00        33\n",
            "        ISFP       0.00      0.00      0.00        54\n",
            "        ISTJ       0.00      0.00      0.00        41\n",
            "        ISTP       1.00      0.01      0.03        67\n",
            "\n",
            "    accuracy                           0.46      1735\n",
            "   macro avg       0.30      0.18      0.18      1735\n",
            "weighted avg       0.51      0.46      0.41      1735\n",
            "\n"
          ]
        }
      ],
      "source": [
        "\n",
        "print('train classification report \\n ',classification_report(train_target,model_forest.predict(train_post),target_names=target_encoder.inverse_transform([i for i in range(16)])))\n",
        "print('test classification report \\n ',classification_report(test_target,model_forest.predict(test_post),target_names=target_encoder.inverse_transform([i for i in range(16)])))"
      ]
    },
    {
      "cell_type": "code",
      "execution_count": null,
      "metadata": {
        "trusted": true,
        "id": "7AlJGFrdLKKf"
      },
      "outputs": [],
      "source": [
        "models_accuracy['Random Forest Classifier']=accuracy_score(test_target,model_forest.predict(test_post))"
      ]
    },
    {
      "cell_type": "code",
      "execution_count": null,
      "metadata": {
        "id": "HuCOky65LKKg",
        "outputId": "82b41a0b-82cd-44e6-9aba-238643a04762"
      },
      "outputs": [
        {
          "name": "stdout",
          "output_type": "stream",
          "text": [
            "logistic regression  :  0.6282420749279539\n",
            "Random Forest Classifier  :  0.461671469740634\n"
          ]
        }
      ],
      "source": [
        "for key,value in models_accuracy.items():\n",
        "    print(key, ' : ', value)"
      ]
    }
  ],
  "metadata": {
    "kernelspec": {
      "display_name": "Python 3.9.7 ('base')",
      "language": "python",
      "name": "python3"
    },
    "language_info": {
      "codemirror_mode": {
        "name": "ipython",
        "version": 3
      },
      "file_extension": ".py",
      "mimetype": "text/x-python",
      "name": "python",
      "nbconvert_exporter": "python",
      "pygments_lexer": "ipython3",
      "version": "3.9.7"
    },
    "vscode": {
      "interpreter": {
        "hash": "8217e151f2f5a58119fbba46315e5cfd0f68f6c4d670d3e01359472600e87705"
      }
    },
    "colab": {
      "provenance": [],
      "include_colab_link": true
    }
  },
  "nbformat": 4,
  "nbformat_minor": 0
}